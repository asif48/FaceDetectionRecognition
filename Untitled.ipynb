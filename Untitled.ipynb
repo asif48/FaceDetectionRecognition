{
 "cells": [
  {
   "cell_type": "code",
   "execution_count": 1,
   "id": "ebf9cca5",
   "metadata": {},
   "outputs": [
    {
     "ename": "ModuleNotFoundError",
     "evalue": "No module named 'imutils'",
     "output_type": "error",
     "traceback": [
      "\u001b[1;31m---------------------------------------------------------------------------\u001b[0m",
      "\u001b[1;31mModuleNotFoundError\u001b[0m                       Traceback (most recent call last)",
      "Input \u001b[1;32mIn [1]\u001b[0m, in \u001b[0;36m<cell line: 1>\u001b[1;34m()\u001b[0m\n\u001b[1;32m----> 1\u001b[0m \u001b[38;5;28;01mfrom\u001b[39;00m \u001b[38;5;21;01mimutils\u001b[39;00m \u001b[38;5;28;01mimport\u001b[39;00m paths\n\u001b[0;32m      2\u001b[0m \u001b[38;5;28;01mimport\u001b[39;00m \u001b[38;5;21;01mface_recognition\u001b[39;00m\u001b[38;5;241m,\u001b[39m \u001b[38;5;21;01mcv2\u001b[39;00m\u001b[38;5;241m,\u001b[39m \u001b[38;5;21;01mos\u001b[39;00m\u001b[38;5;241m,\u001b[39m \u001b[38;5;21;01mpickle\u001b[39;00m\u001b[38;5;241m,\u001b[39m \u001b[38;5;21;01mtime\u001b[39;00m\n\u001b[0;32m      3\u001b[0m \u001b[38;5;28;01mfrom\u001b[39;00m \u001b[38;5;21;01mcollections\u001b[39;00m \u001b[38;5;28;01mimport\u001b[39;00m Counter\n",
      "\u001b[1;31mModuleNotFoundError\u001b[0m: No module named 'imutils'"
     ]
    }
   ],
   "source": [
    "from imutils import paths\n",
    "import face_recognition, cv2, os, pickle, time\n",
    "from collections import Counter\n",
    "\n",
    "ti = time.time()\n",
    "print('[INFO] creating facial embeddings...')\n",
    "try:\n",
    "    data = pickle.loads(open(os.getcwd() + '\\\\encodings.pickle', 'rb').read())    #encodings here\n",
    "except FileNotFoundError:\n",
    "    knownEncodings, knownNames = [], []\n",
    "    imagePaths = list(paths.list_images(os.getcwd() + '\\\\dataset'))    #dataset here\n",
    "    for (i, imagePath) in enumerate(imagePaths):\n",
    "        print('{}/{}'.format(i+1, len(imagePaths)), end=', ')\n",
    "        image, name = cv2.imread(imagePath), imagePath.split(os.path.sep)[-2]\n",
    "        rgb = cv2.cvtColor(image, cv2.COLOR_BGR2RGB)\n",
    "        boxes = face_recognition.face_locations(rgb,  model='cnn')    #detection_method here\n",
    "        for encoding in face_recognition.face_encodings(rgb, boxes):\n",
    "            knownEncodings.append(encoding)\n",
    "            knownNames.append(name)\n",
    "    data = {'encodings': knownEncodings, 'names': knownNames}\n",
    "    f = open(os.getcwd() + '\\\\encodings.pickle', 'wb')\n",
    "    f.write(pickle.dumps(data))\n",
    "    f.close()\n",
    "\n",
    "print('Done! \\n[INFO] recognising faces in image...')\n",
    "imagePaths = list(paths.list_images(os.getcwd() + '\\\\image_test'))    #test image here\n",
    "for (_, imagePath) in enumerate(imagePaths):\n",
    "    if '_output' not in imagePath:\n",
    "        image = cv2.imread(imagePath)\n",
    "        rgb = cv2.cvtColor(image, cv2.COLOR_BGR2RGB)\n",
    "        boxes = face_recognition.face_locations(rgb, model='cnn')    #detection_method here\n",
    "        encodings = face_recognition.face_encodings(rgb, boxes)\n",
    "        names = []\n",
    "        for encoding in encodings:\n",
    "            votes = face_recognition.compare_faces(data['encodings'], encoding)\n",
    "            if True in votes:\n",
    "                names.append(Counter([name for name, vote in list(zip(data['names'], votes)) if vote == True]).most_common()[0][0])\n",
    "            else:\n",
    "                names.append('Unknown')\n",
    "        for ((top, right, bottom, left), name) in zip(boxes, names):\n",
    "            cv2.rectangle(image, (left, top), (right, bottom), (0, 255, 0), 2)\n",
    "            y = top - 15 if top - 15 > 15 else top + 15\n",
    "            cv2.putText(image, name, (left, y), cv2.FONT_HERSHEY_SIMPLEX, 0.75, (0, 255, 0), 2)\n",
    "        cv2.imwrite(imagePath.rsplit('.', 1)[0] + '_output.jpg', image)\n",
    "\n",
    "print('Done! \\nTime taken: {:.1f} minutes'.format((time.time() - ti)/60))\n"
   ]
  },
  {
   "cell_type": "code",
   "execution_count": null,
   "id": "64e14743",
   "metadata": {},
   "outputs": [],
   "source": []
  }
 ],
 "metadata": {
  "kernelspec": {
   "display_name": "Python 3 (ipykernel)",
   "language": "python",
   "name": "python3"
  },
  "language_info": {
   "codemirror_mode": {
    "name": "ipython",
    "version": 3
   },
   "file_extension": ".py",
   "mimetype": "text/x-python",
   "name": "python",
   "nbconvert_exporter": "python",
   "pygments_lexer": "ipython3",
   "version": "3.9.12"
  }
 },
 "nbformat": 4,
 "nbformat_minor": 5
}
